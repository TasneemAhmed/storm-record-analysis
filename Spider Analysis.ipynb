{
 "cells": [
  {
   "cell_type": "markdown",
   "metadata": {},
   "source": [
    "# Storm Record Analysis\n"
   ]
  },
  {
   "cell_type": "markdown",
   "metadata": {},
   "source": [
    "## Prepare Data\n",
    "1. connect with database \"storm_record.sqlite\".\n",
    "2. convert every table(storm, region, affected_region) in database into pandas dataframe."
   ]
  },
  {
   "cell_type": "code",
   "execution_count": 1,
   "metadata": {},
   "outputs": [
    {
     "name": "stdout",
     "output_type": "stream",
     "text": [
      "   Region_id  Storm_ID  Number_city_affected\n",
      "0          1         1                  10.0\n",
      "1          2         1                  15.0\n",
      "2          3         3                  30.0\n",
      "3          1         4                  22.0\n",
      "4         12         5                  37.0\n"
     ]
    }
   ],
   "source": [
    "#importing packages\n",
    "import pandas as pd\n",
    "import sqlite3\n",
    "\n",
    "# Read sqlite query results into a pandas DataFrame\n",
    "con = sqlite3.connect(\"data/storm_record.sqlite\")\n",
    "storm_df = pd.read_sql_query(\"SELECT * from storm\", con)\n",
    "region_df = pd.read_sql_query(\"SELECT * from region\", con)\n",
    "affected_region_df = pd.read_sql_query(\"SELECT * from affected_region\", con)\n",
    "\n",
    "# Verify that result of SQL query is stored in the dataframe\n",
    "print(affected_region_df.head())\n",
    "\n",
    "con.close()"
   ]
  },
  {
   "cell_type": "markdown",
   "metadata": {},
   "source": [
    "### Transformation Data\n",
    "Drill down Dates_active into: Dates_active_from(drill down into:Month_active_from & Day_active_from) and,Dates_active_to(drill down into:Month_active_to & Day_active_to)"
   ]
  },
  {
   "cell_type": "raw",
   "metadata": {},
   "source": [
    "#split Dates_active into: Dates_active_from, Dates_active_to\n",
    "storm_df[['Dates_active_from','Dates_active_to']] = storm_df.Dates_active.str.split(\"–\",expand=True)\n",
    "#drill down Dates_active_from into: Month_active_from, Day_active_from \n",
    "storm_df[['Month_active_from', 'Day_active_from']] = storm_df['Dates_active_from'].str.extract(r'(\\w) \\((\\d)\\)')\n",
    "#drill down Dates_active_to into: Month_active_to, Day_active_to\n",
    "#storm_df[['Month_active_to', 'Day_active_to']] = storm_df['Dates_active_to'].str.extract(r'(.+) \\((\\d+)\\)')\n",
    "\n",
    "print(region_df)\n"
   ]
  },
  {
   "cell_type": "markdown",
   "metadata": {},
   "source": [
    "### Querying current session"
   ]
  },
  {
   "cell_type": "code",
   "execution_count": 2,
   "metadata": {},
   "outputs": [],
   "source": [
    "import atoti as tt\n",
    "\n",
    "session = tt.create_session()\n",
    "storm_store = session.read_pandas(\n",
    "    storm_df, keys=[\"Storm_ID\"], store_name=\"storm\"\n",
    ")\n",
    "region_store = session.read_pandas(\n",
    "    region_df, keys=[\"Region_id\"], store_name=\"region\"\n",
    ")\n",
    "affected_region_store = session.read_pandas(\n",
    "    affected_region_df, keys=[\"Storm_ID\", \"Region_id\"], store_name=\"affected region\"\n",
    ") \n",
    "#affected_region_store is fact table, region_store & storm_store are dimentions.\n",
    "affected_region_store.join(region_store, mapping={\"Region_id\": \"Region_id\"})\n",
    "affected_region_store.join(storm_store , mapping={\"Storm_ID\":\"Storm_ID\"})"
   ]
  },
  {
   "cell_type": "markdown",
   "metadata": {},
   "source": [
    "## Construct Multidimentionaml Cube"
   ]
  },
  {
   "cell_type": "code",
   "execution_count": 3,
   "metadata": {},
   "outputs": [
    {
     "data": {
      "application/json": {
       "Dimensions": {
        "affected region": {
         "Region_id": [
          "Region_id"
         ],
         "Storm_ID": [
          "Storm_ID"
         ]
        },
        "region": {
         "Region_code": [
          "Region_code"
         ],
         "Region_name": [
          "Region_name"
         ]
        },
        "storm": {
         "Dates_active": [
          "Dates_active"
         ],
         "Max_speed": [
          "Max_speed"
         ],
         "Name": [
          "Name"
         ],
         "Number_Deaths": [
          "Number_Deaths"
         ]
        }
       },
       "Measures": {
        "Number_city_affected.MEAN": {
         "formatter": "DOUBLE[#,###.00]"
        },
        "Number_city_affected.SUM": {
         "formatter": "DOUBLE[#,###.00]"
        },
        "contributors.COUNT": {
         "formatter": "INT[#,###]"
        }
       }
      },
      "text/html": [
       "<ul>\n",
       "<li>Storm\n",
       "  <ul>\n",
       "  <li>Dimensions\n",
       "    <ul>\n",
       "    <li>affected region\n",
       "      <ul>\n",
       "      <li>Region_id\n",
       "        <ol>\n",
       "        <li>Region_id</li>\n",
       "        </ol>      </li>\n",
       "      <li>Storm_ID\n",
       "        <ol>\n",
       "        <li>Storm_ID</li>\n",
       "        </ol>      </li>\n",
       "      </ul>\n",
       "    </li>\n",
       "    <li>region\n",
       "      <ul>\n",
       "      <li>Region_code\n",
       "        <ol>\n",
       "        <li>Region_code</li>\n",
       "        </ol>      </li>\n",
       "      <li>Region_name\n",
       "        <ol>\n",
       "        <li>Region_name</li>\n",
       "        </ol>      </li>\n",
       "      </ul>\n",
       "    </li>\n",
       "    <li>storm\n",
       "      <ul>\n",
       "      <li>Dates_active\n",
       "        <ol>\n",
       "        <li>Dates_active</li>\n",
       "        </ol>      </li>\n",
       "      <li>Max_speed\n",
       "        <ol>\n",
       "        <li>Max_speed</li>\n",
       "        </ol>      </li>\n",
       "      <li>Name\n",
       "        <ol>\n",
       "        <li>Name</li>\n",
       "        </ol>      </li>\n",
       "      <li>Number_Deaths\n",
       "        <ol>\n",
       "        <li>Number_Deaths</li>\n",
       "        </ol>      </li>\n",
       "      </ul>\n",
       "    </li>\n",
       "    </ul>\n",
       "  </li>\n",
       "  <li>Measures\n",
       "    <ul>\n",
       "    <li>Number_city_affected.MEAN\n",
       "      <ul>\n",
       "      <li>formatter: DOUBLE[#,###.00]</li>\n",
       "      </ul>\n",
       "    </li>\n",
       "    <li>Number_city_affected.SUM\n",
       "      <ul>\n",
       "      <li>formatter: DOUBLE[#,###.00]</li>\n",
       "      </ul>\n",
       "    </li>\n",
       "    <li>contributors.COUNT\n",
       "      <ul>\n",
       "      <li>formatter: INT[#,###]</li>\n",
       "      </ul>\n",
       "    </li>\n",
       "    </ul>\n",
       "  </li>\n",
       "  </ul>\n",
       "</li>\n",
       "</ul>\n"
      ],
      "text/plain": [
       "Cube(_name='Storm', _hierarchies=Hierarchies(), _measures=Measures())"
      ]
     },
     "execution_count": 3,
     "metadata": {
      "application/json": {
       "expanded": false,
       "root": "Storm"
      }
     },
     "output_type": "execute_result"
    }
   ],
   "source": [
    "#construct cube, create dimentions, and measures automatically.\n",
    "cube = session.create_cube(affected_region_store, \"Storm\", mode = \"auto\")\n",
    "h, l, m = cube.hierarchies, cube.levels, cube.measures\n",
    "cube"
   ]
  },
  {
   "cell_type": "code",
   "execution_count": 4,
   "metadata": {},
   "outputs": [
    {
     "data": {
      "image/svg+xml": [
       "<svg xmlns=\"http://www.w3.org/2000/svg\" xmlns:xlink=\"http://www.w3.org/1999/xlink\" width=\"632px\" height=\"310px\" viewBox=\"0.00 0.00 632.00 310.00\">\n",
       "<g id=\"graph0\" class=\"graph\" transform=\"scale(1.0 1.0) rotate(0) translate(4 306)\">\n",
       "<title>Storm schema</title>\n",
       "<polygon fill=\"white\" stroke=\"transparent\" points=\"-4,4 -4,-306 628,-306 628,4 -4,4\"/>\n",
       "<!-- affected region -->\n",
       "<g id=\"node1\" class=\"node\">\n",
       "<title>affected region</title>\n",
       "<text text-anchor=\"start\" x=\"70\" y=\"-202.6\" font-family=\"-apple-system, BlinkMacSystemFont, 'Segoe UI', Helvetica, Arial, sans-serif, 'Apple Color Emoji', 'Segoe UI Emoji', 'Segoe UI Symbol'\" font-weight=\"bold\" font-size=\"13.00\">affected region</text>\n",
       "<polygon fill=\"#f5f5f5\" stroke=\"transparent\" points=\"9.5,-169 9.5,-193 40.5,-193 40.5,-169 9.5,-169\"/>\n",
       "<text text-anchor=\"start\" x=\"14.5\" y=\"-178.6\" font-family=\"-apple-system, BlinkMacSystemFont, 'Segoe UI', Helvetica, Arial, sans-serif, 'Apple Color Emoji', 'Segoe UI Emoji', 'Segoe UI Symbol'\" font-weight=\"bold\" font-size=\"13.00\">key</text>\n",
       "<polygon fill=\"#f5f5f5\" stroke=\"transparent\" points=\"40.5,-169 40.5,-193 171.5,-193 171.5,-169 40.5,-169\"/>\n",
       "<text text-anchor=\"start\" x=\"45.5\" y=\"-177.6\" font-family=\"-apple-system, BlinkMacSystemFont, 'Segoe UI', Helvetica, Arial, sans-serif, 'Apple Color Emoji', 'Segoe UI Emoji', 'Segoe UI Symbol'\" font-size=\"13.00\">Region_id</text>\n",
       "<polygon fill=\"#f5f5f5\" stroke=\"transparent\" points=\"171.5,-169 171.5,-193 218.5,-193 218.5,-169 171.5,-169\"/>\n",
       "<text text-anchor=\"start\" x=\"190.5\" y=\"-178.6\" font-family=\"-apple-system, BlinkMacSystemFont, 'Segoe UI', Helvetica, Arial, sans-serif, 'Apple Color Emoji', 'Segoe UI Emoji', 'Segoe UI Symbol'\" font-style=\"italic\" font-size=\"13.00\">long</text>\n",
       "<polygon fill=\"#ffffff\" stroke=\"transparent\" points=\"9.5,-145 9.5,-169 40.5,-169 40.5,-145 9.5,-145\"/>\n",
       "<text text-anchor=\"start\" x=\"14.5\" y=\"-154.6\" font-family=\"-apple-system, BlinkMacSystemFont, 'Segoe UI', Helvetica, Arial, sans-serif, 'Apple Color Emoji', 'Segoe UI Emoji', 'Segoe UI Symbol'\" font-weight=\"bold\" font-size=\"13.00\">key</text>\n",
       "<polygon fill=\"#ffffff\" stroke=\"transparent\" points=\"40.5,-145 40.5,-169 171.5,-169 171.5,-145 40.5,-145\"/>\n",
       "<text text-anchor=\"start\" x=\"45.5\" y=\"-153.6\" font-family=\"-apple-system, BlinkMacSystemFont, 'Segoe UI', Helvetica, Arial, sans-serif, 'Apple Color Emoji', 'Segoe UI Emoji', 'Segoe UI Symbol'\" font-size=\"13.00\">Storm_ID</text>\n",
       "<polygon fill=\"#ffffff\" stroke=\"transparent\" points=\"171.5,-145 171.5,-169 218.5,-169 218.5,-145 171.5,-145\"/>\n",
       "<text text-anchor=\"start\" x=\"190.5\" y=\"-154.6\" font-family=\"-apple-system, BlinkMacSystemFont, 'Segoe UI', Helvetica, Arial, sans-serif, 'Apple Color Emoji', 'Segoe UI Emoji', 'Segoe UI Symbol'\" font-style=\"italic\" font-size=\"13.00\">long</text>\n",
       "<polygon fill=\"#f5f5f5\" stroke=\"transparent\" points=\"9.5,-121 9.5,-145 40.5,-145 40.5,-121 9.5,-121\"/>\n",
       "<polygon fill=\"#f5f5f5\" stroke=\"transparent\" points=\"40.5,-121 40.5,-145 171.5,-145 171.5,-121 40.5,-121\"/>\n",
       "<text text-anchor=\"start\" x=\"45.5\" y=\"-129.6\" font-family=\"-apple-system, BlinkMacSystemFont, 'Segoe UI', Helvetica, Arial, sans-serif, 'Apple Color Emoji', 'Segoe UI Emoji', 'Segoe UI Symbol'\" font-size=\"13.00\">Number_city_affected</text>\n",
       "<polygon fill=\"#f5f5f5\" stroke=\"transparent\" points=\"171.5,-121 171.5,-145 218.5,-145 218.5,-121 171.5,-121\"/>\n",
       "<text text-anchor=\"start\" x=\"176.5\" y=\"-130.6\" font-family=\"-apple-system, BlinkMacSystemFont, 'Segoe UI', Helvetica, Arial, sans-serif, 'Apple Color Emoji', 'Segoe UI Emoji', 'Segoe UI Symbol'\" font-style=\"italic\" font-size=\"13.00\">double</text>\n",
       "<polygon fill=\"none\" stroke=\"black\" points=\"8,-120 8,-218 219,-218 219,-120 8,-120\"/>\n",
       "</g>\n",
       "<!-- region -->\n",
       "<g id=\"node2\" class=\"node\">\n",
       "<title>region</title>\n",
       "<text text-anchor=\"start\" x=\"489.5\" y=\"-282.6\" font-family=\"-apple-system, BlinkMacSystemFont, 'Segoe UI', Helvetica, Arial, sans-serif, 'Apple Color Emoji', 'Segoe UI Emoji', 'Segoe UI Symbol'\" font-weight=\"bold\" font-size=\"13.00\">region</text>\n",
       "<polygon fill=\"#f5f5f5\" stroke=\"transparent\" points=\"428.5,-249 428.5,-273 459.5,-273 459.5,-249 428.5,-249\"/>\n",
       "<text text-anchor=\"start\" x=\"433.5\" y=\"-258.6\" font-family=\"-apple-system, BlinkMacSystemFont, 'Segoe UI', Helvetica, Arial, sans-serif, 'Apple Color Emoji', 'Segoe UI Emoji', 'Segoe UI Symbol'\" font-weight=\"bold\" font-size=\"13.00\">key</text>\n",
       "<polygon fill=\"#f5f5f5\" stroke=\"transparent\" points=\"459.5,-249 459.5,-273 545.5,-273 545.5,-249 459.5,-249\"/>\n",
       "<text text-anchor=\"start\" x=\"464.5\" y=\"-257.6\" font-family=\"-apple-system, BlinkMacSystemFont, 'Segoe UI', Helvetica, Arial, sans-serif, 'Apple Color Emoji', 'Segoe UI Emoji', 'Segoe UI Symbol'\" font-size=\"13.00\">Region_id</text>\n",
       "<polygon fill=\"#f5f5f5\" stroke=\"transparent\" points=\"545.5,-249 545.5,-273 588.5,-273 588.5,-249 545.5,-249\"/>\n",
       "<text text-anchor=\"start\" x=\"560.5\" y=\"-258.6\" font-family=\"-apple-system, BlinkMacSystemFont, 'Segoe UI', Helvetica, Arial, sans-serif, 'Apple Color Emoji', 'Segoe UI Emoji', 'Segoe UI Symbol'\" font-style=\"italic\" font-size=\"13.00\">long</text>\n",
       "<polygon fill=\"#ffffff\" stroke=\"transparent\" points=\"428.5,-225 428.5,-249 459.5,-249 459.5,-225 428.5,-225\"/>\n",
       "<polygon fill=\"#ffffff\" stroke=\"transparent\" points=\"459.5,-225 459.5,-249 545.5,-249 545.5,-225 459.5,-225\"/>\n",
       "<text text-anchor=\"start\" x=\"464.5\" y=\"-233.6\" font-family=\"-apple-system, BlinkMacSystemFont, 'Segoe UI', Helvetica, Arial, sans-serif, 'Apple Color Emoji', 'Segoe UI Emoji', 'Segoe UI Symbol'\" font-size=\"13.00\">Region_code</text>\n",
       "<polygon fill=\"#ffffff\" stroke=\"transparent\" points=\"545.5,-225 545.5,-249 588.5,-249 588.5,-225 545.5,-225\"/>\n",
       "<text text-anchor=\"start\" x=\"550.5\" y=\"-234.6\" font-family=\"-apple-system, BlinkMacSystemFont, 'Segoe UI', Helvetica, Arial, sans-serif, 'Apple Color Emoji', 'Segoe UI Emoji', 'Segoe UI Symbol'\" font-style=\"italic\" font-size=\"13.00\">String</text>\n",
       "<polygon fill=\"#f5f5f5\" stroke=\"transparent\" points=\"428.5,-201 428.5,-225 459.5,-225 459.5,-201 428.5,-201\"/>\n",
       "<polygon fill=\"#f5f5f5\" stroke=\"transparent\" points=\"459.5,-201 459.5,-225 545.5,-225 545.5,-201 459.5,-201\"/>\n",
       "<text text-anchor=\"start\" x=\"464.5\" y=\"-209.6\" font-family=\"-apple-system, BlinkMacSystemFont, 'Segoe UI', Helvetica, Arial, sans-serif, 'Apple Color Emoji', 'Segoe UI Emoji', 'Segoe UI Symbol'\" font-size=\"13.00\">Region_name</text>\n",
       "<polygon fill=\"#f5f5f5\" stroke=\"transparent\" points=\"545.5,-201 545.5,-225 588.5,-225 588.5,-201 545.5,-201\"/>\n",
       "<text text-anchor=\"start\" x=\"550.5\" y=\"-210.6\" font-family=\"-apple-system, BlinkMacSystemFont, 'Segoe UI', Helvetica, Arial, sans-serif, 'Apple Color Emoji', 'Segoe UI Emoji', 'Segoe UI Symbol'\" font-style=\"italic\" font-size=\"13.00\">String</text>\n",
       "<polygon fill=\"none\" stroke=\"black\" points=\"427.5,-200 427.5,-298 589.5,-298 589.5,-200 427.5,-200\"/>\n",
       "</g>\n",
       "<!-- affected region&#45;&gt;region -->\n",
       "<g id=\"edge2\" class=\"edge\">\n",
       "<title>affected region-&gt;region</title>\n",
       "<path fill=\"none\" stroke=\"black\" d=\"M227.12,-191.92C284.68,-203.64 354.06,-217.76 409.4,-229.03\"/>\n",
       "<polygon fill=\"black\" stroke=\"black\" points=\"408.71,-232.46 419.21,-231.03 410.11,-225.6 408.71,-232.46\"/>\n",
       "<text text-anchor=\"middle\" x=\"310\" y=\"-223.6\" font-family=\"-apple-system, BlinkMacSystemFont, 'Segoe UI', Helvetica, Arial, sans-serif, 'Apple Color Emoji', 'Segoe UI Emoji', 'Segoe UI Symbol'\" font-size=\"13.00\">Region_id → Region_id</text>\n",
       "</g>\n",
       "<!-- storm -->\n",
       "<g id=\"node3\" class=\"node\">\n",
       "<title>storm</title>\n",
       "<text text-anchor=\"start\" x=\"491.5\" y=\"-158.6\" font-family=\"-apple-system, BlinkMacSystemFont, 'Segoe UI', Helvetica, Arial, sans-serif, 'Apple Color Emoji', 'Segoe UI Emoji', 'Segoe UI Symbol'\" font-weight=\"bold\" font-size=\"13.00\">storm</text>\n",
       "<polygon fill=\"#f5f5f5\" stroke=\"transparent\" points=\"402.5,-125 402.5,-149 433.5,-149 433.5,-125 402.5,-125\"/>\n",
       "<text text-anchor=\"start\" x=\"407.5\" y=\"-134.6\" font-family=\"-apple-system, BlinkMacSystemFont, 'Segoe UI', Helvetica, Arial, sans-serif, 'Apple Color Emoji', 'Segoe UI Emoji', 'Segoe UI Symbol'\" font-weight=\"bold\" font-size=\"13.00\">key</text>\n",
       "<polygon fill=\"#f5f5f5\" stroke=\"transparent\" points=\"433.5,-125 433.5,-149 568.5,-149 568.5,-125 433.5,-125\"/>\n",
       "<text text-anchor=\"start\" x=\"438.5\" y=\"-133.6\" font-family=\"-apple-system, BlinkMacSystemFont, 'Segoe UI', Helvetica, Arial, sans-serif, 'Apple Color Emoji', 'Segoe UI Emoji', 'Segoe UI Symbol'\" font-size=\"13.00\">Storm_ID</text>\n",
       "<polygon fill=\"#f5f5f5\" stroke=\"transparent\" points=\"568.5,-125 568.5,-149 615.5,-149 615.5,-125 568.5,-125\"/>\n",
       "<text text-anchor=\"start\" x=\"587.5\" y=\"-134.6\" font-family=\"-apple-system, BlinkMacSystemFont, 'Segoe UI', Helvetica, Arial, sans-serif, 'Apple Color Emoji', 'Segoe UI Emoji', 'Segoe UI Symbol'\" font-style=\"italic\" font-size=\"13.00\">long</text>\n",
       "<polygon fill=\"#ffffff\" stroke=\"transparent\" points=\"402.5,-101 402.5,-125 433.5,-125 433.5,-101 402.5,-101\"/>\n",
       "<polygon fill=\"#ffffff\" stroke=\"transparent\" points=\"433.5,-101 433.5,-125 568.5,-125 568.5,-101 433.5,-101\"/>\n",
       "<text text-anchor=\"start\" x=\"438.5\" y=\"-109.6\" font-family=\"-apple-system, BlinkMacSystemFont, 'Segoe UI', Helvetica, Arial, sans-serif, 'Apple Color Emoji', 'Segoe UI Emoji', 'Segoe UI Symbol'\" font-size=\"13.00\">Name</text>\n",
       "<polygon fill=\"#ffffff\" stroke=\"transparent\" points=\"568.5,-101 568.5,-125 615.5,-125 615.5,-101 568.5,-101\"/>\n",
       "<text text-anchor=\"start\" x=\"577.5\" y=\"-110.6\" font-family=\"-apple-system, BlinkMacSystemFont, 'Segoe UI', Helvetica, Arial, sans-serif, 'Apple Color Emoji', 'Segoe UI Emoji', 'Segoe UI Symbol'\" font-style=\"italic\" font-size=\"13.00\">String</text>\n",
       "<polygon fill=\"#f5f5f5\" stroke=\"transparent\" points=\"402.5,-77 402.5,-101 433.5,-101 433.5,-77 402.5,-77\"/>\n",
       "<polygon fill=\"#f5f5f5\" stroke=\"transparent\" points=\"433.5,-77 433.5,-101 568.5,-101 568.5,-77 433.5,-77\"/>\n",
       "<text text-anchor=\"start\" x=\"438.5\" y=\"-85.6\" font-family=\"-apple-system, BlinkMacSystemFont, 'Segoe UI', Helvetica, Arial, sans-serif, 'Apple Color Emoji', 'Segoe UI Emoji', 'Segoe UI Symbol'\" font-size=\"13.00\">Dates_active</text>\n",
       "<polygon fill=\"#f5f5f5\" stroke=\"transparent\" points=\"568.5,-77 568.5,-101 615.5,-101 615.5,-77 568.5,-77\"/>\n",
       "<text text-anchor=\"start\" x=\"577.5\" y=\"-86.6\" font-family=\"-apple-system, BlinkMacSystemFont, 'Segoe UI', Helvetica, Arial, sans-serif, 'Apple Color Emoji', 'Segoe UI Emoji', 'Segoe UI Symbol'\" font-style=\"italic\" font-size=\"13.00\">String</text>\n",
       "<polygon fill=\"#ffffff\" stroke=\"transparent\" points=\"402.5,-53 402.5,-77 433.5,-77 433.5,-53 402.5,-53\"/>\n",
       "<polygon fill=\"#ffffff\" stroke=\"transparent\" points=\"433.5,-53 433.5,-77 568.5,-77 568.5,-53 433.5,-53\"/>\n",
       "<text text-anchor=\"start\" x=\"438.5\" y=\"-61.6\" font-family=\"-apple-system, BlinkMacSystemFont, 'Segoe UI', Helvetica, Arial, sans-serif, 'Apple Color Emoji', 'Segoe UI Emoji', 'Segoe UI Symbol'\" font-size=\"13.00\">Max_speed</text>\n",
       "<polygon fill=\"#ffffff\" stroke=\"transparent\" points=\"568.5,-53 568.5,-77 615.5,-77 615.5,-53 568.5,-53\"/>\n",
       "<text text-anchor=\"start\" x=\"587.5\" y=\"-62.6\" font-family=\"-apple-system, BlinkMacSystemFont, 'Segoe UI', Helvetica, Arial, sans-serif, 'Apple Color Emoji', 'Segoe UI Emoji', 'Segoe UI Symbol'\" font-style=\"italic\" font-size=\"13.00\">long</text>\n",
       "<polygon fill=\"#f5f5f5\" stroke=\"transparent\" points=\"402.5,-29 402.5,-53 433.5,-53 433.5,-29 402.5,-29\"/>\n",
       "<polygon fill=\"#f5f5f5\" stroke=\"transparent\" points=\"433.5,-29 433.5,-53 568.5,-53 568.5,-29 433.5,-29\"/>\n",
       "<text text-anchor=\"start\" x=\"438.5\" y=\"-37.6\" font-family=\"-apple-system, BlinkMacSystemFont, 'Segoe UI', Helvetica, Arial, sans-serif, 'Apple Color Emoji', 'Segoe UI Emoji', 'Segoe UI Symbol'\" font-size=\"13.00\">Damage_millions_USD</text>\n",
       "<polygon fill=\"#f5f5f5\" stroke=\"transparent\" points=\"568.5,-29 568.5,-53 615.5,-53 615.5,-29 568.5,-29\"/>\n",
       "<text text-anchor=\"start\" x=\"573.5\" y=\"-38.6\" font-family=\"-apple-system, BlinkMacSystemFont, 'Segoe UI', Helvetica, Arial, sans-serif, 'Apple Color Emoji', 'Segoe UI Emoji', 'Segoe UI Symbol'\" font-style=\"italic\" font-size=\"13.00\">double</text>\n",
       "<polygon fill=\"#ffffff\" stroke=\"transparent\" points=\"402.5,-5 402.5,-29 433.5,-29 433.5,-5 402.5,-5\"/>\n",
       "<polygon fill=\"#ffffff\" stroke=\"transparent\" points=\"433.5,-5 433.5,-29 568.5,-29 568.5,-5 433.5,-5\"/>\n",
       "<text text-anchor=\"start\" x=\"438.5\" y=\"-13.6\" font-family=\"-apple-system, BlinkMacSystemFont, 'Segoe UI', Helvetica, Arial, sans-serif, 'Apple Color Emoji', 'Segoe UI Emoji', 'Segoe UI Symbol'\" font-size=\"13.00\">Number_Deaths</text>\n",
       "<polygon fill=\"#ffffff\" stroke=\"transparent\" points=\"568.5,-5 568.5,-29 615.5,-29 615.5,-5 568.5,-5\"/>\n",
       "<text text-anchor=\"start\" x=\"587.5\" y=\"-14.6\" font-family=\"-apple-system, BlinkMacSystemFont, 'Segoe UI', Helvetica, Arial, sans-serif, 'Apple Color Emoji', 'Segoe UI Emoji', 'Segoe UI Symbol'\" font-style=\"italic\" font-size=\"13.00\">long</text>\n",
       "<polygon fill=\"none\" stroke=\"black\" points=\"401,-4 401,-174 616,-174 616,-4 401,-4\"/>\n",
       "</g>\n",
       "<!-- affected region&#45;&gt;storm -->\n",
       "<g id=\"edge1\" class=\"edge\">\n",
       "<title>affected region-&gt;storm</title>\n",
       "<path fill=\"none\" stroke=\"black\" d=\"M227.12,-146.08C275.81,-136.16 332.97,-124.53 382.93,-114.36\"/>\n",
       "<polygon fill=\"black\" stroke=\"black\" points=\"383.72,-117.77 392.82,-112.34 382.32,-110.91 383.72,-117.77\"/>\n",
       "<text text-anchor=\"middle\" x=\"310\" y=\"-143.6\" font-family=\"-apple-system, BlinkMacSystemFont, 'Segoe UI', Helvetica, Arial, sans-serif, 'Apple Color Emoji', 'Segoe UI Emoji', 'Segoe UI Symbol'\" font-size=\"13.00\">Storm_ID → Storm_ID</text>\n",
       "</g>\n",
       "</g>\n",
       "</svg>"
      ],
      "text/plain": [
       "<IPython.core.display.SVG object>"
      ]
     },
     "execution_count": 4,
     "metadata": {},
     "output_type": "execute_result"
    }
   ],
   "source": [
    "cube.schema"
   ]
  },
  {
   "cell_type": "markdown",
   "metadata": {},
   "source": [
    "### Create hierarchy"
   ]
  },
  {
   "cell_type": "raw",
   "metadata": {},
   "source": [
    "# The Dates_active can also be organized with multiple levels(Dates_active_from, Dates_active_to)\n",
    "h[\"Dates_active\"] = [\n",
    "    storm_store[\"Dates_active_from\"],\n",
    "    storm_store[\"Dates_active_to\"]\n",
    "]\n",
    "del h[\"Dates_active_from\"]\n",
    "del h[\"Dates_active_to\"]\n",
    "# The Dates_active_from can also be organized with multiple levels(Month_active_from, Day_active_from)\n",
    "h[\"Dates_active_from\"] = [\n",
    "    storm_store[\"Month_active_from\"],\n",
    "    storm_store[\"Day_active_from\"]\n",
    "]\n",
    "del h[\"Month_active_from\"]\n",
    "del h[\"Day_active_from\"]\n",
    "# The Dates_active_to can also be organized with multiple levels(Month_active_to, Day_active_to)\n",
    "#h[\"Dates_active_to\"] = [\n",
    "    #storm_store[\"Month_active_to\"],\n",
    "    #storm_store[\"Day_active_to\"]\n",
    "#]\n",
    "#el h[\"Month_active_to\"]\n",
    "#el h[\"Day_active_to\"]\n",
    "cube\n"
   ]
  },
  {
   "cell_type": "markdown",
   "metadata": {},
   "source": [
    "### Create Measures"
   ]
  },
  {
   "cell_type": "code",
   "execution_count": 5,
   "metadata": {},
   "outputs": [
    {
     "data": {
      "application/json": {
       "Dimensions": {
        "affected region": {
         "Region_id": [
          "Region_id"
         ],
         "Storm_ID": [
          "Storm_ID"
         ]
        },
        "region": {
         "Region_code": [
          "Region_code"
         ],
         "Region_name": [
          "Region_name"
         ]
        },
        "storm": {
         "Dates_active": [
          "Dates_active"
         ],
         "Max_speed": [
          "Max_speed"
         ],
         "Name": [
          "Name"
         ],
         "Number_Deaths": [
          "Number_Deaths"
         ]
        }
       },
       "Measures": {
        "Damage millions usd.MAX": {
         "formatter": "DOUBLE[#,###.00]"
        },
        "Damage millions usd.MEAN": {
         "formatter": "DOUBLE[#,###.00]"
        },
        "Damage millions usd.MIN": {
         "formatter": "DOUBLE[#,###.00]"
        },
        "Damage millions usd.SUM": {
         "formatter": "DOUBLE[#,###.00]"
        },
        "Damage millions usd.VALUE": {
         "formatter": "DOUBLE[#,###.00]"
        },
        "Number deaths.MAX": {
         "formatter": "INT[#,###]"
        },
        "Number deaths.MEAN": {
         "formatter": "DOUBLE[#,###.00]"
        },
        "Number deaths.MIN": {
         "formatter": "INT[#,###]"
        },
        "Number deaths.SUM": {
         "formatter": "INT[#,###]"
        },
        "Number deaths.VALUE": {
         "formatter": "INT[#,###]"
        },
        "Number_city_affected.MEAN": {
         "formatter": "DOUBLE[#,###.00]"
        },
        "Number_city_affected.SUM": {
         "formatter": "DOUBLE[#,###.00]"
        },
        "Speed.MAX": {
         "formatter": "INT[#,###]"
        },
        "Speed.MEAN": {
         "formatter": "DOUBLE[#,###.00]"
        },
        "Speed.MIN": {
         "formatter": "INT[#,###]"
        },
        "Speed.VALUE": {
         "formatter": "INT[#,###]"
        },
        "contributors.COUNT": {
         "formatter": "INT[#,###]"
        }
       }
      },
      "text/html": [
       "<ul>\n",
       "<li>Storm\n",
       "  <ul>\n",
       "  <li>Dimensions\n",
       "    <ul>\n",
       "    <li>affected region\n",
       "      <ul>\n",
       "      <li>Region_id\n",
       "        <ol>\n",
       "        <li>Region_id</li>\n",
       "        </ol>      </li>\n",
       "      <li>Storm_ID\n",
       "        <ol>\n",
       "        <li>Storm_ID</li>\n",
       "        </ol>      </li>\n",
       "      </ul>\n",
       "    </li>\n",
       "    <li>region\n",
       "      <ul>\n",
       "      <li>Region_code\n",
       "        <ol>\n",
       "        <li>Region_code</li>\n",
       "        </ol>      </li>\n",
       "      <li>Region_name\n",
       "        <ol>\n",
       "        <li>Region_name</li>\n",
       "        </ol>      </li>\n",
       "      </ul>\n",
       "    </li>\n",
       "    <li>storm\n",
       "      <ul>\n",
       "      <li>Dates_active\n",
       "        <ol>\n",
       "        <li>Dates_active</li>\n",
       "        </ol>      </li>\n",
       "      <li>Max_speed\n",
       "        <ol>\n",
       "        <li>Max_speed</li>\n",
       "        </ol>      </li>\n",
       "      <li>Name\n",
       "        <ol>\n",
       "        <li>Name</li>\n",
       "        </ol>      </li>\n",
       "      <li>Number_Deaths\n",
       "        <ol>\n",
       "        <li>Number_Deaths</li>\n",
       "        </ol>      </li>\n",
       "      </ul>\n",
       "    </li>\n",
       "    </ul>\n",
       "  </li>\n",
       "  <li>Measures\n",
       "    <ul>\n",
       "    <li>Damage millions usd.MAX\n",
       "      <ul>\n",
       "      <li>formatter: DOUBLE[#,###.00]</li>\n",
       "      </ul>\n",
       "    </li>\n",
       "    <li>Damage millions usd.MEAN\n",
       "      <ul>\n",
       "      <li>formatter: DOUBLE[#,###.00]</li>\n",
       "      </ul>\n",
       "    </li>\n",
       "    <li>Damage millions usd.MIN\n",
       "      <ul>\n",
       "      <li>formatter: DOUBLE[#,###.00]</li>\n",
       "      </ul>\n",
       "    </li>\n",
       "    <li>Damage millions usd.SUM\n",
       "      <ul>\n",
       "      <li>formatter: DOUBLE[#,###.00]</li>\n",
       "      </ul>\n",
       "    </li>\n",
       "    <li>Damage millions usd.VALUE\n",
       "      <ul>\n",
       "      <li>formatter: DOUBLE[#,###.00]</li>\n",
       "      </ul>\n",
       "    </li>\n",
       "    <li>Number deaths.MAX\n",
       "      <ul>\n",
       "      <li>formatter: INT[#,###]</li>\n",
       "      </ul>\n",
       "    </li>\n",
       "    <li>Number deaths.MEAN\n",
       "      <ul>\n",
       "      <li>formatter: DOUBLE[#,###.00]</li>\n",
       "      </ul>\n",
       "    </li>\n",
       "    <li>Number deaths.MIN\n",
       "      <ul>\n",
       "      <li>formatter: INT[#,###]</li>\n",
       "      </ul>\n",
       "    </li>\n",
       "    <li>Number deaths.SUM\n",
       "      <ul>\n",
       "      <li>formatter: INT[#,###]</li>\n",
       "      </ul>\n",
       "    </li>\n",
       "    <li>Number deaths.VALUE\n",
       "      <ul>\n",
       "      <li>formatter: INT[#,###]</li>\n",
       "      </ul>\n",
       "    </li>\n",
       "    <li>Number_city_affected.MEAN\n",
       "      <ul>\n",
       "      <li>formatter: DOUBLE[#,###.00]</li>\n",
       "      </ul>\n",
       "    </li>\n",
       "    <li>Number_city_affected.SUM\n",
       "      <ul>\n",
       "      <li>formatter: DOUBLE[#,###.00]</li>\n",
       "      </ul>\n",
       "    </li>\n",
       "    <li>Speed.MAX\n",
       "      <ul>\n",
       "      <li>formatter: INT[#,###]</li>\n",
       "      </ul>\n",
       "    </li>\n",
       "    <li>Speed.MEAN\n",
       "      <ul>\n",
       "      <li>formatter: DOUBLE[#,###.00]</li>\n",
       "      </ul>\n",
       "    </li>\n",
       "    <li>Speed.MIN\n",
       "      <ul>\n",
       "      <li>formatter: INT[#,###]</li>\n",
       "      </ul>\n",
       "    </li>\n",
       "    <li>Speed.VALUE\n",
       "      <ul>\n",
       "      <li>formatter: INT[#,###]</li>\n",
       "      </ul>\n",
       "    </li>\n",
       "    <li>contributors.COUNT\n",
       "      <ul>\n",
       "      <li>formatter: INT[#,###]</li>\n",
       "      </ul>\n",
       "    </li>\n",
       "    </ul>\n",
       "  </li>\n",
       "  </ul>\n",
       "</li>\n",
       "</ul>\n"
      ],
      "text/plain": [
       "Cube(_name='Storm', _hierarchies=Hierarchies(), _measures=Measures())"
      ]
     },
     "execution_count": 5,
     "metadata": {
      "application/json": {
       "expanded": false,
       "root": "Storm"
      }
     },
     "output_type": "execute_result"
    }
   ],
   "source": [
    "m[\"Speed.VALUE\"] = tt.value(storm_store[\"Max_speed\"])\n",
    "m[\"Speed.MAX\"] = tt.agg.max(storm_store[\"Max_speed\"])\n",
    "m[\"Speed.MIN\"] = tt.agg.min(storm_store[\"Max_speed\"])\n",
    "m[\"Speed.MEAN\"] = tt.agg.mean(storm_store[\"Max_speed\"])\n",
    "\n",
    "\n",
    "m[\"Damage millions usd.VALUE\"] = tt.value(storm_store[\"Damage_millions_USD\"])\n",
    "m[\"Damage millions usd.MAX\"] = tt.agg.max(storm_store[\"Damage_millions_USD\"])\n",
    "m[\"Damage millions usd.MIN\"] = tt.agg.min(storm_store[\"Damage_millions_USD\"])\n",
    "m[\"Damage millions usd.MEAN\"] = tt.agg.mean(storm_store[\"Damage_millions_USD\"])\n",
    "m[\"Damage millions usd.SUM\"] = tt.agg.sum(storm_store[\"Damage_millions_USD\"])\n",
    "\n",
    "m[\"Number deaths.VALUE\"] = tt.value(storm_store[\"Number_Deaths\"])\n",
    "m[\"Number deaths.MAX\"] = tt.agg.max(storm_store[\"Number_Deaths\"])\n",
    "m[\"Number deaths.MIN\"] = tt.agg.min(storm_store[\"Number_Deaths\"])\n",
    "m[\"Number deaths.MEAN\"] = tt.agg.mean(storm_store[\"Number_Deaths\"])\n",
    "m[\"Number deaths.SUM\"] = tt.agg.sum(storm_store[\"Number_Deaths\"])\n",
    "\n",
    "\n",
    "m\n",
    "\n",
    "cube\n"
   ]
  },
  {
   "cell_type": "markdown",
   "metadata": {},
   "source": [
    "#### Measure Folders"
   ]
  },
  {
   "cell_type": "code",
   "execution_count": 6,
   "metadata": {},
   "outputs": [
    {
     "data": {
      "application/json": {
       "Number_city_affected.MEAN": {
        "formatter": "DOUBLE[#,###.00]"
       },
       "Number_city_affected.SUM": {
        "formatter": "DOUBLE[#,###.00]"
       },
       "contributors.COUNT": {
        "formatter": "INT[#,###]"
       },
       "📁 Damage": {
        "Damage millions usd.MAX": {
         "formatter": "DOUBLE[#,###.00]"
        },
        "Damage millions usd.MEAN": {
         "formatter": "DOUBLE[#,###.00]"
        },
        "Damage millions usd.MIN": {
         "formatter": "DOUBLE[#,###.00]"
        },
        "Damage millions usd.SUM": {
         "formatter": "DOUBLE[#,###.00]"
        },
        "Damage millions usd.VALUE": {
         "formatter": "DOUBLE[#,###.00]"
        }
       },
       "📁 Death": {
        "Number deaths.MAX": {
         "formatter": "INT[#,###]"
        },
        "Number deaths.MEAN": {
         "formatter": "DOUBLE[#,###.00]"
        },
        "Number deaths.MIN": {
         "formatter": "INT[#,###]"
        },
        "Number deaths.SUM": {
         "formatter": "INT[#,###]"
        },
        "Number deaths.VALUE": {
         "formatter": "INT[#,###]"
        }
       },
       "📁 Speed": {
        "Speed.MAX": {
         "formatter": "INT[#,###]"
        },
        "Speed.MEAN": {
         "formatter": "DOUBLE[#,###.00]"
        },
        "Speed.MIN": {
         "formatter": "INT[#,###]"
        },
        "Speed.VALUE": {
         "formatter": "INT[#,###]"
        }
       }
      },
      "text/html": [
       "<ul>\n",
       "<li>Measures\n",
       "  <ul>\n",
       "  <li>📁 Speed\n",
       "    <ul>\n",
       "    <li>Speed.MAX\n",
       "      <ul>\n",
       "      <li>formatter: INT[#,###]</li>\n",
       "      </ul>\n",
       "    </li>\n",
       "    <li>Speed.MEAN\n",
       "      <ul>\n",
       "      <li>formatter: DOUBLE[#,###.00]</li>\n",
       "      </ul>\n",
       "    </li>\n",
       "    <li>Speed.MIN\n",
       "      <ul>\n",
       "      <li>formatter: INT[#,###]</li>\n",
       "      </ul>\n",
       "    </li>\n",
       "    <li>Speed.VALUE\n",
       "      <ul>\n",
       "      <li>formatter: INT[#,###]</li>\n",
       "      </ul>\n",
       "    </li>\n",
       "    </ul>\n",
       "  </li>\n",
       "  <li>📁 Damage\n",
       "    <ul>\n",
       "    <li>Damage millions usd.MAX\n",
       "      <ul>\n",
       "      <li>formatter: DOUBLE[#,###.00]</li>\n",
       "      </ul>\n",
       "    </li>\n",
       "    <li>Damage millions usd.MEAN\n",
       "      <ul>\n",
       "      <li>formatter: DOUBLE[#,###.00]</li>\n",
       "      </ul>\n",
       "    </li>\n",
       "    <li>Damage millions usd.MIN\n",
       "      <ul>\n",
       "      <li>formatter: DOUBLE[#,###.00]</li>\n",
       "      </ul>\n",
       "    </li>\n",
       "    <li>Damage millions usd.SUM\n",
       "      <ul>\n",
       "      <li>formatter: DOUBLE[#,###.00]</li>\n",
       "      </ul>\n",
       "    </li>\n",
       "    <li>Damage millions usd.VALUE\n",
       "      <ul>\n",
       "      <li>formatter: DOUBLE[#,###.00]</li>\n",
       "      </ul>\n",
       "    </li>\n",
       "    </ul>\n",
       "  </li>\n",
       "  <li>📁 Death\n",
       "    <ul>\n",
       "    <li>Number deaths.MAX\n",
       "      <ul>\n",
       "      <li>formatter: INT[#,###]</li>\n",
       "      </ul>\n",
       "    </li>\n",
       "    <li>Number deaths.MEAN\n",
       "      <ul>\n",
       "      <li>formatter: DOUBLE[#,###.00]</li>\n",
       "      </ul>\n",
       "    </li>\n",
       "    <li>Number deaths.MIN\n",
       "      <ul>\n",
       "      <li>formatter: INT[#,###]</li>\n",
       "      </ul>\n",
       "    </li>\n",
       "    <li>Number deaths.SUM\n",
       "      <ul>\n",
       "      <li>formatter: INT[#,###]</li>\n",
       "      </ul>\n",
       "    </li>\n",
       "    <li>Number deaths.VALUE\n",
       "      <ul>\n",
       "      <li>formatter: INT[#,###]</li>\n",
       "      </ul>\n",
       "    </li>\n",
       "    </ul>\n",
       "  </li>\n",
       "  <li>Number_city_affected.MEAN\n",
       "    <ul>\n",
       "    <li>formatter: DOUBLE[#,###.00]</li>\n",
       "    </ul>\n",
       "  </li>\n",
       "  <li>Number_city_affected.SUM\n",
       "    <ul>\n",
       "    <li>formatter: DOUBLE[#,###.00]</li>\n",
       "    </ul>\n",
       "  </li>\n",
       "  <li>contributors.COUNT\n",
       "    <ul>\n",
       "    <li>formatter: INT[#,###]</li>\n",
       "    </ul>\n",
       "  </li>\n",
       "  </ul>\n",
       "</li>\n",
       "</ul>\n"
      ],
      "text/plain": [
       "Measures()"
      ]
     },
     "execution_count": 6,
     "metadata": {
      "application/json": {
       "expanded": false,
       "root": "Measures"
      }
     },
     "output_type": "execute_result"
    }
   ],
   "source": [
    "#Measures can be rearranged into folders.\n",
    "for measure in [\n",
    "    m[\"Speed.VALUE\"],\n",
    "    m[\"Speed.MAX\"],\n",
    "    m[\"Speed.MIN\"],\n",
    "    m[\"Speed.MEAN\"],\n",
    "]:\n",
    "    measure.folder = \"Speed\"\n",
    "    \n",
    "for measure in [\n",
    "    m[\"Damage millions usd.VALUE\"],\n",
    "    m[\"Damage millions usd.MAX\"],\n",
    "    m[\"Damage millions usd.MIN\"],\n",
    "    m[\"Damage millions usd.MEAN\"],\n",
    "    m[\"Damage millions usd.SUM\"],\n",
    "]:\n",
    "    measure.folder = \"Damage\"\n",
    "    \n",
    "for measure in [\n",
    "    m[\"Number deaths.VALUE\"],\n",
    "    m[\"Number deaths.MAX\"],\n",
    "    m[\"Number deaths.MIN\"],\n",
    "    m[\"Number deaths.MEAN\"],\n",
    "    m[\"Number deaths.SUM\"],\n",
    "]:\n",
    "    measure.folder = \"Death\"\n",
    "m"
   ]
  },
  {
   "cell_type": "markdown",
   "metadata": {},
   "source": [
    "## Visualization Storm Record "
   ]
  },
  {
   "cell_type": "code",
   "execution_count": 7,
   "metadata": {
    "tags": []
   },
   "outputs": [
    {
     "data": {
      "text/plain": [
       "'http://localhost:49801'"
      ]
     },
     "execution_count": 7,
     "metadata": {},
     "output_type": "execute_result"
    }
   ],
   "source": [
    "session.url"
   ]
  },
  {
   "cell_type": "code",
   "execution_count": null,
   "metadata": {},
   "outputs": [],
   "source": []
  },
  {
   "cell_type": "code",
   "execution_count": null,
   "metadata": {},
   "outputs": [],
   "source": []
  }
 ],
 "metadata": {
  "kernelspec": {
   "display_name": "Python 3",
   "language": "python",
   "name": "python3"
  },
  "language_info": {
   "codemirror_mode": {
    "name": "ipython",
    "version": 3
   },
   "file_extension": ".py",
   "mimetype": "text/x-python",
   "name": "python",
   "nbconvert_exporter": "python",
   "pygments_lexer": "ipython3",
   "version": "3.8.5"
  }
 },
 "nbformat": 4,
 "nbformat_minor": 4
}
